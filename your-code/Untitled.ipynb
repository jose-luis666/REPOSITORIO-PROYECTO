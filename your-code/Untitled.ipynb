{
 "cells": [
  {
   "cell_type": "markdown",
   "id": "0f7a0979",
   "metadata": {},
   "source": [
    "# **PROYECTO SHARKS**"
   ]
  },
  {
   "cell_type": "code",
   "execution_count": 1,
   "id": "dc4e0c1e",
   "metadata": {},
   "outputs": [],
   "source": [
    "import pandas as pd\n",
    "import numpy as np"
   ]
  },
  {
   "cell_type": "code",
   "execution_count": 2,
   "id": "6a67069b",
   "metadata": {},
   "outputs": [],
   "source": [
    "df = pd.read_csv('../data/attacks.csv', encoding='latin-1')"
   ]
  },
  {
   "cell_type": "code",
   "execution_count": 3,
   "id": "ba2bc9e9",
   "metadata": {},
   "outputs": [
    {
     "data": {
      "text/html": [
       "<div>\n",
       "<style scoped>\n",
       "    .dataframe tbody tr th:only-of-type {\n",
       "        vertical-align: middle;\n",
       "    }\n",
       "\n",
       "    .dataframe tbody tr th {\n",
       "        vertical-align: top;\n",
       "    }\n",
       "\n",
       "    .dataframe thead th {\n",
       "        text-align: right;\n",
       "    }\n",
       "</style>\n",
       "<table border=\"1\" class=\"dataframe\">\n",
       "  <thead>\n",
       "    <tr style=\"text-align: right;\">\n",
       "      <th></th>\n",
       "      <th>Case Number</th>\n",
       "      <th>Date</th>\n",
       "      <th>Year</th>\n",
       "      <th>Type</th>\n",
       "      <th>Country</th>\n",
       "      <th>Area</th>\n",
       "      <th>Location</th>\n",
       "      <th>Activity</th>\n",
       "      <th>Name</th>\n",
       "      <th>Sex</th>\n",
       "      <th>...</th>\n",
       "      <th>Species</th>\n",
       "      <th>Investigator or Source</th>\n",
       "      <th>pdf</th>\n",
       "      <th>href formula</th>\n",
       "      <th>href</th>\n",
       "      <th>Case Number.1</th>\n",
       "      <th>Case Number.2</th>\n",
       "      <th>original order</th>\n",
       "      <th>Unnamed: 22</th>\n",
       "      <th>Unnamed: 23</th>\n",
       "    </tr>\n",
       "  </thead>\n",
       "  <tbody>\n",
       "    <tr>\n",
       "      <th>0</th>\n",
       "      <td>2018.06.25</td>\n",
       "      <td>25-Jun-2018</td>\n",
       "      <td>2018.0</td>\n",
       "      <td>Boating</td>\n",
       "      <td>USA</td>\n",
       "      <td>California</td>\n",
       "      <td>Oceanside, San Diego County</td>\n",
       "      <td>Paddling</td>\n",
       "      <td>Julie Wolfe</td>\n",
       "      <td>F</td>\n",
       "      <td>...</td>\n",
       "      <td>White shark</td>\n",
       "      <td>R. Collier, GSAF</td>\n",
       "      <td>2018.06.25-Wolfe.pdf</td>\n",
       "      <td>http://sharkattackfile.net/spreadsheets/pdf_di...</td>\n",
       "      <td>http://sharkattackfile.net/spreadsheets/pdf_di...</td>\n",
       "      <td>2018.06.25</td>\n",
       "      <td>2018.06.25</td>\n",
       "      <td>6303.0</td>\n",
       "      <td>NaN</td>\n",
       "      <td>NaN</td>\n",
       "    </tr>\n",
       "    <tr>\n",
       "      <th>1</th>\n",
       "      <td>2018.06.18</td>\n",
       "      <td>18-Jun-2018</td>\n",
       "      <td>2018.0</td>\n",
       "      <td>Unprovoked</td>\n",
       "      <td>USA</td>\n",
       "      <td>Georgia</td>\n",
       "      <td>St. Simon Island, Glynn County</td>\n",
       "      <td>Standing</td>\n",
       "      <td>Adyson McNeely</td>\n",
       "      <td>F</td>\n",
       "      <td>...</td>\n",
       "      <td>NaN</td>\n",
       "      <td>K.McMurray, TrackingSharks.com</td>\n",
       "      <td>2018.06.18-McNeely.pdf</td>\n",
       "      <td>http://sharkattackfile.net/spreadsheets/pdf_di...</td>\n",
       "      <td>http://sharkattackfile.net/spreadsheets/pdf_di...</td>\n",
       "      <td>2018.06.18</td>\n",
       "      <td>2018.06.18</td>\n",
       "      <td>6302.0</td>\n",
       "      <td>NaN</td>\n",
       "      <td>NaN</td>\n",
       "    </tr>\n",
       "    <tr>\n",
       "      <th>2</th>\n",
       "      <td>2018.06.09</td>\n",
       "      <td>09-Jun-2018</td>\n",
       "      <td>2018.0</td>\n",
       "      <td>Invalid</td>\n",
       "      <td>USA</td>\n",
       "      <td>Hawaii</td>\n",
       "      <td>Habush, Oahu</td>\n",
       "      <td>Surfing</td>\n",
       "      <td>John Denges</td>\n",
       "      <td>M</td>\n",
       "      <td>...</td>\n",
       "      <td>NaN</td>\n",
       "      <td>K.McMurray, TrackingSharks.com</td>\n",
       "      <td>2018.06.09-Denges.pdf</td>\n",
       "      <td>http://sharkattackfile.net/spreadsheets/pdf_di...</td>\n",
       "      <td>http://sharkattackfile.net/spreadsheets/pdf_di...</td>\n",
       "      <td>2018.06.09</td>\n",
       "      <td>2018.06.09</td>\n",
       "      <td>6301.0</td>\n",
       "      <td>NaN</td>\n",
       "      <td>NaN</td>\n",
       "    </tr>\n",
       "    <tr>\n",
       "      <th>3</th>\n",
       "      <td>2018.06.08</td>\n",
       "      <td>08-Jun-2018</td>\n",
       "      <td>2018.0</td>\n",
       "      <td>Unprovoked</td>\n",
       "      <td>AUSTRALIA</td>\n",
       "      <td>New South Wales</td>\n",
       "      <td>Arrawarra Headland</td>\n",
       "      <td>Surfing</td>\n",
       "      <td>male</td>\n",
       "      <td>M</td>\n",
       "      <td>...</td>\n",
       "      <td>2 m shark</td>\n",
       "      <td>B. Myatt, GSAF</td>\n",
       "      <td>2018.06.08-Arrawarra.pdf</td>\n",
       "      <td>http://sharkattackfile.net/spreadsheets/pdf_di...</td>\n",
       "      <td>http://sharkattackfile.net/spreadsheets/pdf_di...</td>\n",
       "      <td>2018.06.08</td>\n",
       "      <td>2018.06.08</td>\n",
       "      <td>6300.0</td>\n",
       "      <td>NaN</td>\n",
       "      <td>NaN</td>\n",
       "    </tr>\n",
       "    <tr>\n",
       "      <th>4</th>\n",
       "      <td>2018.06.04</td>\n",
       "      <td>04-Jun-2018</td>\n",
       "      <td>2018.0</td>\n",
       "      <td>Provoked</td>\n",
       "      <td>MEXICO</td>\n",
       "      <td>Colima</td>\n",
       "      <td>La Ticla</td>\n",
       "      <td>Free diving</td>\n",
       "      <td>Gustavo Ramos</td>\n",
       "      <td>M</td>\n",
       "      <td>...</td>\n",
       "      <td>Tiger shark, 3m</td>\n",
       "      <td>A .Kipper</td>\n",
       "      <td>2018.06.04-Ramos.pdf</td>\n",
       "      <td>http://sharkattackfile.net/spreadsheets/pdf_di...</td>\n",
       "      <td>http://sharkattackfile.net/spreadsheets/pdf_di...</td>\n",
       "      <td>2018.06.04</td>\n",
       "      <td>2018.06.04</td>\n",
       "      <td>6299.0</td>\n",
       "      <td>NaN</td>\n",
       "      <td>NaN</td>\n",
       "    </tr>\n",
       "  </tbody>\n",
       "</table>\n",
       "<p>5 rows × 24 columns</p>\n",
       "</div>"
      ],
      "text/plain": [
       "  Case Number         Date    Year        Type    Country             Area  \\\n",
       "0  2018.06.25  25-Jun-2018  2018.0     Boating        USA       California   \n",
       "1  2018.06.18  18-Jun-2018  2018.0  Unprovoked        USA          Georgia   \n",
       "2  2018.06.09  09-Jun-2018  2018.0     Invalid        USA           Hawaii   \n",
       "3  2018.06.08  08-Jun-2018  2018.0  Unprovoked  AUSTRALIA  New South Wales   \n",
       "4  2018.06.04  04-Jun-2018  2018.0    Provoked     MEXICO           Colima   \n",
       "\n",
       "                         Location     Activity             Name Sex   ...  \\\n",
       "0     Oceanside, San Diego County     Paddling      Julie Wolfe    F  ...   \n",
       "1  St. Simon Island, Glynn County     Standing  Adyson McNeely     F  ...   \n",
       "2                    Habush, Oahu      Surfing      John Denges    M  ...   \n",
       "3              Arrawarra Headland      Surfing             male    M  ...   \n",
       "4                        La Ticla  Free diving   Gustavo Ramos     M  ...   \n",
       "\n",
       "          Species           Investigator or Source                       pdf  \\\n",
       "0      White shark                R. Collier, GSAF      2018.06.25-Wolfe.pdf   \n",
       "1              NaN  K.McMurray, TrackingSharks.com    2018.06.18-McNeely.pdf   \n",
       "2              NaN  K.McMurray, TrackingSharks.com     2018.06.09-Denges.pdf   \n",
       "3        2 m shark                  B. Myatt, GSAF  2018.06.08-Arrawarra.pdf   \n",
       "4  Tiger shark, 3m                       A .Kipper      2018.06.04-Ramos.pdf   \n",
       "\n",
       "                                        href formula  \\\n",
       "0  http://sharkattackfile.net/spreadsheets/pdf_di...   \n",
       "1  http://sharkattackfile.net/spreadsheets/pdf_di...   \n",
       "2  http://sharkattackfile.net/spreadsheets/pdf_di...   \n",
       "3  http://sharkattackfile.net/spreadsheets/pdf_di...   \n",
       "4  http://sharkattackfile.net/spreadsheets/pdf_di...   \n",
       "\n",
       "                                                href Case Number.1  \\\n",
       "0  http://sharkattackfile.net/spreadsheets/pdf_di...    2018.06.25   \n",
       "1  http://sharkattackfile.net/spreadsheets/pdf_di...    2018.06.18   \n",
       "2  http://sharkattackfile.net/spreadsheets/pdf_di...    2018.06.09   \n",
       "3  http://sharkattackfile.net/spreadsheets/pdf_di...    2018.06.08   \n",
       "4  http://sharkattackfile.net/spreadsheets/pdf_di...    2018.06.04   \n",
       "\n",
       "  Case Number.2 original order Unnamed: 22 Unnamed: 23  \n",
       "0    2018.06.25         6303.0         NaN         NaN  \n",
       "1    2018.06.18         6302.0         NaN         NaN  \n",
       "2    2018.06.09         6301.0         NaN         NaN  \n",
       "3    2018.06.08         6300.0         NaN         NaN  \n",
       "4    2018.06.04         6299.0         NaN         NaN  \n",
       "\n",
       "[5 rows x 24 columns]"
      ]
     },
     "execution_count": 3,
     "metadata": {},
     "output_type": "execute_result"
    }
   ],
   "source": [
    "df.head()"
   ]
  },
  {
   "cell_type": "code",
   "execution_count": 4,
   "id": "835024dc",
   "metadata": {},
   "outputs": [
    {
     "data": {
      "text/plain": [
       "(25723, 24)"
      ]
     },
     "execution_count": 4,
     "metadata": {},
     "output_type": "execute_result"
    }
   ],
   "source": [
    "df.shape"
   ]
  },
  {
   "cell_type": "code",
   "execution_count": 5,
   "id": "108886d6",
   "metadata": {},
   "outputs": [
    {
     "data": {
      "text/plain": [
       "Index(['Case Number', 'Date', 'Year', 'Type', 'Country', 'Area', 'Location',\n",
       "       'Activity', 'Name', 'Sex ', 'Age', 'Injury', 'Fatal (Y/N)', 'Time',\n",
       "       'Species ', 'Investigator or Source', 'pdf', 'href formula', 'href',\n",
       "       'Case Number.1', 'Case Number.2', 'original order', 'Unnamed: 22',\n",
       "       'Unnamed: 23'],\n",
       "      dtype='object')"
      ]
     },
     "execution_count": 5,
     "metadata": {},
     "output_type": "execute_result"
    }
   ],
   "source": [
    "df.columns"
   ]
  },
  {
   "cell_type": "code",
   "execution_count": 6,
   "id": "c9c167ed",
   "metadata": {},
   "outputs": [
    {
     "data": {
      "text/plain": [
       "(25723, 2)"
      ]
     },
     "execution_count": 6,
     "metadata": {},
     "output_type": "execute_result"
    }
   ],
   "source": [
    "df._get_numeric_data().shape  #con esto saco el shape de los elementos numéricos"
   ]
  },
  {
   "cell_type": "code",
   "execution_count": 7,
   "id": "f462e9a7",
   "metadata": {},
   "outputs": [
    {
     "data": {
      "text/plain": [
       "(25723, 22)"
      ]
     },
     "execution_count": 7,
     "metadata": {},
     "output_type": "execute_result"
    }
   ],
   "source": [
    "df.select_dtypes('object').shape  # con esto saco el shape de los elementos tipo object"
   ]
  },
  {
   "cell_type": "code",
   "execution_count": 8,
   "id": "43403599",
   "metadata": {},
   "outputs": [
    {
     "name": "stdout",
     "output_type": "stream",
     "text": [
      "<class 'pandas.core.frame.DataFrame'>\n",
      "RangeIndex: 25723 entries, 0 to 25722\n",
      "Data columns (total 24 columns):\n",
      " #   Column                  Non-Null Count  Dtype  \n",
      "---  ------                  --------------  -----  \n",
      " 0   Case Number             8702 non-null   object \n",
      " 1   Date                    6302 non-null   object \n",
      " 2   Year                    6300 non-null   float64\n",
      " 3   Type                    6298 non-null   object \n",
      " 4   Country                 6252 non-null   object \n",
      " 5   Area                    5847 non-null   object \n",
      " 6   Location                5762 non-null   object \n",
      " 7   Activity                5758 non-null   object \n",
      " 8   Name                    6092 non-null   object \n",
      " 9   Sex                     5737 non-null   object \n",
      " 10  Age                     3471 non-null   object \n",
      " 11  Injury                  6274 non-null   object \n",
      " 12  Fatal (Y/N)             5763 non-null   object \n",
      " 13  Time                    2948 non-null   object \n",
      " 14  Species                 3464 non-null   object \n",
      " 15  Investigator or Source  6285 non-null   object \n",
      " 16  pdf                     6302 non-null   object \n",
      " 17  href formula            6301 non-null   object \n",
      " 18  href                    6302 non-null   object \n",
      " 19  Case Number.1           6302 non-null   object \n",
      " 20  Case Number.2           6302 non-null   object \n",
      " 21  original order          6309 non-null   float64\n",
      " 22  Unnamed: 22             1 non-null      object \n",
      " 23  Unnamed: 23             2 non-null      object \n",
      "dtypes: float64(2), object(22)\n",
      "memory usage: 4.7+ MB\n"
     ]
    }
   ],
   "source": [
    "df.info()"
   ]
  },
  {
   "cell_type": "markdown",
   "id": "59a8cf87",
   "metadata": {},
   "source": [
    "# **La mayoría de columnas del DF albergan datos de tipo object, frente a 2 columnas de tipo Float**"
   ]
  },
  {
   "cell_type": "markdown",
   "id": "dd8d6ab4",
   "metadata": {},
   "source": [
    "# Ahora voy a borrar valores nulos "
   ]
  },
  {
   "cell_type": "code",
   "execution_count": 12,
   "id": "fff617b6",
   "metadata": {},
   "outputs": [
    {
     "data": {
      "text/plain": [
       "19421"
      ]
     },
     "execution_count": 12,
     "metadata": {},
     "output_type": "execute_result"
    }
   ],
   "source": [
    "umbral = 0.6  # Define el umbral del 60% de valores nulos\n",
    "porcentaje_nulos = df.apply(lambda row: row.isnull().sum() / len(row), axis=1)  # Calcula el porcentaje de valores nulos en cada fila\n",
    "num_filas = sum(porcentaje_nulos > umbral)  # Cuenta el número de filas que tienen un porcentaje de valores nulos mayor que el umbral\n",
    "\n",
    "num_filas"
   ]
  },
  {
   "cell_type": "code",
   "execution_count": 13,
   "id": "7fdbb474",
   "metadata": {},
   "outputs": [],
   "source": [
    "# Ahora voy a borrar estas filas porque tienen demasiados valores nulos utilizando drop.\n",
    "\n",
    "indices = porcentaje_nulos[porcentaje_nulos > umbral].index  # Obtiene los índices de las filas que cumplen el umbral\n",
    "df = df.drop(indices, axis=0)  # Elimina las filas que cumplen el umbral del DataFrame"
   ]
  },
  {
   "cell_type": "code",
   "execution_count": 14,
   "id": "43721f28",
   "metadata": {},
   "outputs": [
    {
     "data": {
      "text/plain": [
       "(6302, 24)"
      ]
     },
     "execution_count": 14,
     "metadata": {},
     "output_type": "execute_result"
    }
   ],
   "source": [
    "df.shape"
   ]
  },
  {
   "cell_type": "code",
   "execution_count": null,
   "id": "77defdd0",
   "metadata": {},
   "outputs": [],
   "source": [
    "# Ahora tengo muchas menos filas, genial"
   ]
  },
  {
   "cell_type": "markdown",
   "id": "15157eaa",
   "metadata": {},
   "source": [
    "# **Filas duplicadas** "
   ]
  },
  {
   "cell_type": "code",
   "execution_count": 16,
   "id": "210de430",
   "metadata": {},
   "outputs": [
    {
     "data": {
      "text/html": [
       "<div>\n",
       "<style scoped>\n",
       "    .dataframe tbody tr th:only-of-type {\n",
       "        vertical-align: middle;\n",
       "    }\n",
       "\n",
       "    .dataframe tbody tr th {\n",
       "        vertical-align: top;\n",
       "    }\n",
       "\n",
       "    .dataframe thead th {\n",
       "        text-align: right;\n",
       "    }\n",
       "</style>\n",
       "<table border=\"1\" class=\"dataframe\">\n",
       "  <thead>\n",
       "    <tr style=\"text-align: right;\">\n",
       "      <th></th>\n",
       "      <th>Case Number</th>\n",
       "      <th>Date</th>\n",
       "      <th>Year</th>\n",
       "      <th>Type</th>\n",
       "      <th>Country</th>\n",
       "      <th>Area</th>\n",
       "      <th>Location</th>\n",
       "      <th>Activity</th>\n",
       "      <th>Name</th>\n",
       "      <th>Sex</th>\n",
       "      <th>...</th>\n",
       "      <th>Species</th>\n",
       "      <th>Investigator or Source</th>\n",
       "      <th>pdf</th>\n",
       "      <th>href formula</th>\n",
       "      <th>href</th>\n",
       "      <th>Case Number.1</th>\n",
       "      <th>Case Number.2</th>\n",
       "      <th>original order</th>\n",
       "      <th>Unnamed: 22</th>\n",
       "      <th>Unnamed: 23</th>\n",
       "    </tr>\n",
       "  </thead>\n",
       "  <tbody>\n",
       "  </tbody>\n",
       "</table>\n",
       "<p>0 rows × 24 columns</p>\n",
       "</div>"
      ],
      "text/plain": [
       "Empty DataFrame\n",
       "Columns: [Case Number, Date, Year, Type, Country, Area, Location, Activity, Name, Sex , Age, Injury, Fatal (Y/N), Time, Species , Investigator or Source, pdf, href formula, href, Case Number.1, Case Number.2, original order, Unnamed: 22, Unnamed: 23]\n",
       "Index: []\n",
       "\n",
       "[0 rows x 24 columns]"
      ]
     },
     "execution_count": 16,
     "metadata": {},
     "output_type": "execute_result"
    }
   ],
   "source": [
    "duplicados = df[df.duplicated()]\n",
    "\n",
    "duplicados"
   ]
  },
  {
   "cell_type": "code",
   "execution_count": null,
   "id": "08672a1d",
   "metadata": {},
   "outputs": [],
   "source": [
    "# Esto significa que no hay filas duplicadas, genial"
   ]
  },
  {
   "cell_type": "markdown",
   "id": "c0262bdf",
   "metadata": {},
   "source": [
    "# **Ahora voy a ir columna por columna limpiando los datos** "
   ]
  },
  {
   "cell_type": "markdown",
   "id": "8bc0435d",
   "metadata": {},
   "source": [
    "**COLUMNA 1 - Case Number**"
   ]
  },
  {
   "cell_type": "code",
   "execution_count": 17,
   "id": "9746edae",
   "metadata": {},
   "outputs": [
    {
     "data": {
      "text/plain": [
       "0       <class 'str'>\n",
       "1       <class 'str'>\n",
       "2       <class 'str'>\n",
       "3       <class 'str'>\n",
       "4       <class 'str'>\n",
       "            ...      \n",
       "6297    <class 'str'>\n",
       "6298    <class 'str'>\n",
       "6299    <class 'str'>\n",
       "6300    <class 'str'>\n",
       "6301    <class 'str'>\n",
       "Name: Case Number, Length: 6302, dtype: object"
      ]
     },
     "execution_count": 17,
     "metadata": {},
     "output_type": "execute_result"
    }
   ],
   "source": [
    "# Columna 1 : Case Number. Entiendo que es una especie de identificador, un ID.\n",
    "\n",
    "df['Case Number'].apply(type)"
   ]
  },
  {
   "cell_type": "code",
   "execution_count": null,
   "id": "83d4f06b",
   "metadata": {},
   "outputs": [],
   "source": [
    "# Veo que son strings correspondientes a fechas.\n",
    "# Voy a quitarles los puntos entre medio. De esta manera voy a poder manejarlos mejor"
   ]
  },
  {
   "cell_type": "code",
   "execution_count": 19,
   "id": "a82d229b",
   "metadata": {},
   "outputs": [],
   "source": [
    "df['Case Number'] = df['Case Number'].replace('\\.', '', regex=True)"
   ]
  },
  {
   "cell_type": "code",
   "execution_count": 20,
   "id": "350c84e2",
   "metadata": {},
   "outputs": [
    {
     "name": "stdout",
     "output_type": "stream",
     "text": [
      "0       20180625\n",
      "1       20180618\n",
      "2       20180609\n",
      "3       20180608\n",
      "4       20180604\n",
      "          ...   \n",
      "6297      ND0005\n",
      "6298      ND0004\n",
      "6299      ND0003\n",
      "6300      ND0002\n",
      "6301      ND0001\n",
      "Name: Case Number, Length: 6302, dtype: object\n"
     ]
    }
   ],
   "source": [
    "print(df['Case Number'])"
   ]
  },
  {
   "cell_type": "code",
   "execution_count": null,
   "id": "1b219a67",
   "metadata": {},
   "outputs": [],
   "source": [
    "# Veo que estos string IDs no sólo tienen una estructura tipo fecha, sino que también tienen la forma de, por ejemplo, ND0005\n",
    "# Por ahora eso me da igual, son IDs y cada uno se llama de una manera.\n",
    "# Parece que la mayoría de esos IDs tienen esos dos tipos de \"morfologías\"\n"
   ]
  },
  {
   "cell_type": "markdown",
   "id": "e20c9dc5",
   "metadata": {},
   "source": [
    "**COLUMNA 2 - Date**"
   ]
  },
  {
   "cell_type": "code",
   "execution_count": null,
   "id": "a3128ab2",
   "metadata": {},
   "outputs": [],
   "source": [
    "# Esta columna representa fechas, se entiende que es la fecha del incidente\n",
    "\n",
    "# Compruebo el tipo de dato que contiene esta columna"
   ]
  },
  {
   "cell_type": "code",
   "execution_count": 25,
   "id": "01dee874",
   "metadata": {},
   "outputs": [
    {
     "data": {
      "text/plain": [
       "0       <class 'str'>\n",
       "1       <class 'str'>\n",
       "2       <class 'str'>\n",
       "3       <class 'str'>\n",
       "4       <class 'str'>\n",
       "            ...      \n",
       "6297    <class 'str'>\n",
       "6298    <class 'str'>\n",
       "6299    <class 'str'>\n",
       "6300    <class 'str'>\n",
       "6301    <class 'str'>\n",
       "Name: Date, Length: 6302, dtype: object"
      ]
     },
     "execution_count": 25,
     "metadata": {},
     "output_type": "execute_result"
    }
   ],
   "source": [
    "df['Date'].apply(type)"
   ]
  },
  {
   "cell_type": "code",
   "execution_count": 26,
   "id": "e87024fe",
   "metadata": {},
   "outputs": [
    {
     "name": "stdout",
     "output_type": "stream",
     "text": [
      "0       25-Jun-2018\n",
      "1       18-Jun-2018\n",
      "2       09-Jun-2018\n",
      "3       08-Jun-2018\n",
      "4       04-Jun-2018\n",
      "           ...     \n",
      "6297    Before 1903\n",
      "6298    Before 1903\n",
      "6299      1900-1905\n",
      "6300      1883-1889\n",
      "6301      1845-1853\n",
      "Name: Date, Length: 6302, dtype: object\n"
     ]
    }
   ],
   "source": [
    "print(df['Date'])"
   ]
  },
  {
   "cell_type": "code",
   "execution_count": null,
   "id": "a9535230",
   "metadata": {},
   "outputs": [],
   "source": [
    "# Veo que la columna Date contiene datos de fechas pero escritos de manera diferente, muy lioso."
   ]
  },
  {
   "cell_type": "code",
   "execution_count": null,
   "id": "f8153c0e",
   "metadata": {},
   "outputs": [],
   "source": [
    "# Por otro lado, veo que la siguiente columna se llama Year, por lo que voy a ver qué tiene, por si me ayuda para decidir lo que hacer con la de Date."
   ]
  },
  {
   "cell_type": "code",
   "execution_count": 27,
   "id": "1915c419",
   "metadata": {},
   "outputs": [
    {
     "name": "stdout",
     "output_type": "stream",
     "text": [
      "0       2018.0\n",
      "1       2018.0\n",
      "2       2018.0\n",
      "3       2018.0\n",
      "4       2018.0\n",
      "         ...  \n",
      "6297       0.0\n",
      "6298       0.0\n",
      "6299       0.0\n",
      "6300       0.0\n",
      "6301       0.0\n",
      "Name: Year, Length: 6302, dtype: float64\n"
     ]
    }
   ],
   "source": [
    "print(df['Year'])"
   ]
  },
  {
   "cell_type": "code",
   "execution_count": 28,
   "id": "cd50ce28",
   "metadata": {},
   "outputs": [
    {
     "name": "stdout",
     "output_type": "stream",
     "text": [
      "125\n"
     ]
    }
   ],
   "source": [
    "print(df['Year'].value_counts()[0.0])"
   ]
  },
  {
   "cell_type": "code",
   "execution_count": null,
   "id": "07c1e22f",
   "metadata": {},
   "outputs": [],
   "source": [
    "# He comprobado que en la columna year hay algunos valores iguales a 0.0. \n",
    "# Eso no me da ninguna información, por lo que voy a borrar las filas que tienen ese year 0.0."
   ]
  },
  {
   "cell_type": "code",
   "execution_count": 33,
   "id": "815dd759",
   "metadata": {},
   "outputs": [],
   "source": [
    "rows_to_drop = df[df['Year'] == 0.0].index\n",
    "df = df.drop(rows_to_drop)"
   ]
  },
  {
   "cell_type": "code",
   "execution_count": 34,
   "id": "7866ab60",
   "metadata": {},
   "outputs": [
    {
     "data": {
      "text/plain": [
       "(6176, 24)"
      ]
     },
     "execution_count": 34,
     "metadata": {},
     "output_type": "execute_result"
    }
   ],
   "source": [
    "df.shape"
   ]
  },
  {
   "cell_type": "code",
   "execution_count": 35,
   "id": "3c82090c",
   "metadata": {},
   "outputs": [],
   "source": [
    "# Ahora tengo un df de (6176, 24)"
   ]
  },
  {
   "cell_type": "markdown",
   "id": "92b26edb",
   "metadata": {},
   "source": [
    "**COLUMNA 4 - Type**"
   ]
  },
  {
   "cell_type": "code",
   "execution_count": null,
   "id": "676c8e52",
   "metadata": {},
   "outputs": [],
   "source": [
    "# Esta columna indica el tipo de ataque: provocado, no provocado, y más tipos que no conozco.\n",
    "# lo primero que voy a hacer es sacar los valores únicos"
   ]
  },
  {
   "cell_type": "code",
   "execution_count": 37,
   "id": "7e90dcf1",
   "metadata": {},
   "outputs": [
    {
     "name": "stdout",
     "output_type": "stream",
     "text": [
      "Unprovoked      4487\n",
      "Provoked         567\n",
      "Invalid          544\n",
      "Sea Disaster     233\n",
      "Boating          203\n",
      "Boat             135\n",
      "Questionable       2\n",
      "Boatomg            1\n",
      "Name: Type, dtype: int64\n"
     ]
    }
   ],
   "source": [
    "value_counts = df['Type'].value_counts()\n",
    "\n",
    "print(value_counts)"
   ]
  },
  {
   "cell_type": "code",
   "execution_count": 38,
   "id": "9e206b06",
   "metadata": {},
   "outputs": [],
   "source": [
    "# Voy a agruparlos únicamente en provocados y no provocados\n",
    "# Voy a pasar las distintas categorías a Unprovoked, y los inválidos los voy a dejar tal y como están.\n",
    "# Los paso a Unprovoked porque se entiende que en las categorías como Sea Disaster o Boating no se le estaba provocando."
   ]
  },
  {
   "cell_type": "code",
   "execution_count": null,
   "id": "f8a4d12e",
   "metadata": {},
   "outputs": [],
   "source": [
    "# Sustituyo los valores de sea disaster, boating, boat, questionable y boatomg y les coloco \"Unprovoked\"\n",
    "# para eso creo un diccionario con lo que quiero sustituir, y luego los reemplazo en el df"
   ]
  },
  {
   "cell_type": "code",
   "execution_count": 39,
   "id": "19fa0967",
   "metadata": {},
   "outputs": [],
   "source": [
    "diccionario_reemplazar = {'Sea Disaster': 'Unprovoked', 'Boating': 'Unprovoked', 'Boat': 'Unprovoked', 'Questionable': 'Unprovoked', 'Boatomg': 'Unprovoked'}"
   ]
  },
  {
   "cell_type": "code",
   "execution_count": 40,
   "id": "23cd9c80",
   "metadata": {},
   "outputs": [],
   "source": [
    "# Reemplazar los valores en la columna \"Type\" utilizando el diccionario de reemplazo\n",
    "df['Type'] = df['Type'].replace(diccionario_reemplazar)"
   ]
  },
  {
   "cell_type": "code",
   "execution_count": 44,
   "id": "5d6add5b",
   "metadata": {},
   "outputs": [
    {
     "name": "stdout",
     "output_type": "stream",
     "text": [
      "0       Unprovoked\n",
      "1       Unprovoked\n",
      "2          Invalid\n",
      "3       Unprovoked\n",
      "4         Provoked\n",
      "           ...    \n",
      "6172    Unprovoked\n",
      "6173    Unprovoked\n",
      "6174    Unprovoked\n",
      "6175    Unprovoked\n",
      "6176    Unprovoked\n",
      "Name: Type, Length: 6176, dtype: object\n"
     ]
    }
   ],
   "source": [
    "print(df['Type'])"
   ]
  },
  {
   "cell_type": "markdown",
   "id": "3eab76cd",
   "metadata": {},
   "source": [
    "**COLUMNA 5 - Country**"
   ]
  },
  {
   "cell_type": "code",
   "execution_count": 46,
   "id": "356c80df",
   "metadata": {},
   "outputs": [
    {
     "data": {
      "text/plain": [
       "0       Unprovoked\n",
       "1       Unprovoked\n",
       "2          Invalid\n",
       "3       Unprovoked\n",
       "4         Provoked\n",
       "           ...    \n",
       "6172    Unprovoked\n",
       "6173    Unprovoked\n",
       "6174    Unprovoked\n",
       "6175    Unprovoked\n",
       "6176    Unprovoked\n",
       "Name: Type, Length: 6176, dtype: object"
      ]
     },
     "execution_count": 46,
     "metadata": {},
     "output_type": "execute_result"
    }
   ],
   "source": [
    "(df['Type'])"
   ]
  },
  {
   "cell_type": "markdown",
   "id": "0cf6f4fe",
   "metadata": {},
   "source": [
    "**COLUMNA 6 - Area**"
   ]
  },
  {
   "cell_type": "code",
   "execution_count": 49,
   "id": "4efb155f",
   "metadata": {},
   "outputs": [
    {
     "data": {
      "text/plain": [
       "Florida                  1029\n",
       "New South Wales           484\n",
       "Queensland                308\n",
       "Hawaii                    295\n",
       "California                287\n",
       "                         ... \n",
       "Island of Kos               1\n",
       "Ha'api                      1\n",
       "Madeira Islands             1\n",
       "Ho Ha Wan Marine Park       1\n",
       "Ionian Sea                  1\n",
       "Name: Area, Length: 804, dtype: int64"
      ]
     },
     "execution_count": 49,
     "metadata": {},
     "output_type": "execute_result"
    }
   ],
   "source": [
    "df['Area'].value_counts()"
   ]
  },
  {
   "cell_type": "code",
   "execution_count": 61,
   "id": "30a067f8",
   "metadata": {},
   "outputs": [],
   "source": [
    "# 804 valores unicos, o lo que es lo mismo, lugares en los que han ocurrido ataques.\n",
    "\n",
    "# De los 6mil accidentes aprox, 1029 de ellos son en Florida, \"New South Wales\" 484, 308 en Queensland, etc...\n",
    "\n",
    "# Los valores son de tipo int. , por lo que nos viene bien por si tenemos que operar con ellos en algún momento."
   ]
  },
  {
   "cell_type": "markdown",
   "id": "493a42f9",
   "metadata": {},
   "source": [
    "**Special Characters**"
   ]
  },
  {
   "cell_type": "code",
   "execution_count": null,
   "id": "37f74478",
   "metadata": {},
   "outputs": [],
   "source": [
    "# Me olvidé de hacerlo al principio.\n",
    "# Voy a borrar los special characters por si acaso me conducen a algún error."
   ]
  },
  {
   "cell_type": "code",
   "execution_count": 63,
   "id": "f8d5809b",
   "metadata": {},
   "outputs": [
    {
     "name": "stdout",
     "output_type": "stream",
     "text": [
      "La cantidad de celdas que contienen caracteres especiales es: 65120\n"
     ]
    }
   ],
   "source": [
    "import re\n",
    "\n",
    "# Creamos una expresión regular para encontrar los caracteres especiales\n",
    "regex_special = r'[^\\w\\s]'\n",
    "\n",
    "# Aplicamos la expresión regular a todas las celdas del DataFrame y contamos los resultados\n",
    "count_special = df.applymap(lambda x: bool(re.findall(regex_special, str(x)))).sum().sum()\n",
    "\n",
    "# Imprimimos el resultado\n",
    "print(\"La cantidad de celdas que contienen caracteres especiales es:\", count_special)"
   ]
  },
  {
   "cell_type": "code",
   "execution_count": 79,
   "id": "8039828d",
   "metadata": {},
   "outputs": [],
   "source": [
    "# Ahora voy a normalizar todos los caracteres especiales a lo largo del dataframe.\n",
    "\n",
    "import unicodedata\n",
    "\n",
    "# para ello defino una función para normalizar una cadena\n",
    "def normalize_string(s):\n",
    "    return unicodedata.normalize('NFKD', str(s)).encode('ascii', 'ignore').decode('utf-8')\n",
    "\n",
    "# despues aplico esa función a todo el DataFrame, y el nuevo df se llamara df normalizado\n",
    "df_normalizado = df.applymap(normalize_string)"
   ]
  },
  {
   "cell_type": "code",
   "execution_count": 80,
   "id": "7e6a5007",
   "metadata": {},
   "outputs": [
    {
     "data": {
      "text/html": [
       "<div>\n",
       "<style scoped>\n",
       "    .dataframe tbody tr th:only-of-type {\n",
       "        vertical-align: middle;\n",
       "    }\n",
       "\n",
       "    .dataframe tbody tr th {\n",
       "        vertical-align: top;\n",
       "    }\n",
       "\n",
       "    .dataframe thead th {\n",
       "        text-align: right;\n",
       "    }\n",
       "</style>\n",
       "<table border=\"1\" class=\"dataframe\">\n",
       "  <thead>\n",
       "    <tr style=\"text-align: right;\">\n",
       "      <th></th>\n",
       "      <th>Case Number</th>\n",
       "      <th>Date</th>\n",
       "      <th>Year</th>\n",
       "      <th>Type</th>\n",
       "      <th>Country</th>\n",
       "      <th>Area</th>\n",
       "      <th>Location</th>\n",
       "      <th>Activity</th>\n",
       "      <th>Name</th>\n",
       "      <th>Sex</th>\n",
       "      <th>...</th>\n",
       "      <th>Species</th>\n",
       "      <th>Investigator or Source</th>\n",
       "      <th>pdf</th>\n",
       "      <th>href formula</th>\n",
       "      <th>href</th>\n",
       "      <th>Case Number.1</th>\n",
       "      <th>Case Number.2</th>\n",
       "      <th>original order</th>\n",
       "      <th>Unnamed: 22</th>\n",
       "      <th>Unnamed: 23</th>\n",
       "    </tr>\n",
       "  </thead>\n",
       "  <tbody>\n",
       "    <tr>\n",
       "      <th>0</th>\n",
       "      <td>20180625</td>\n",
       "      <td>25-Jun-2018</td>\n",
       "      <td>2018.0</td>\n",
       "      <td>Unprovoked</td>\n",
       "      <td>USA</td>\n",
       "      <td>California</td>\n",
       "      <td>Oceanside, San Diego County</td>\n",
       "      <td>Paddling</td>\n",
       "      <td>Julie Wolfe</td>\n",
       "      <td>F</td>\n",
       "      <td>...</td>\n",
       "      <td>White shark</td>\n",
       "      <td>R. Collier, GSAF</td>\n",
       "      <td>2018.06.25-Wolfe.pdf</td>\n",
       "      <td>http://sharkattackfile.net/spreadsheets/pdf_di...</td>\n",
       "      <td>http://sharkattackfile.net/spreadsheets/pdf_di...</td>\n",
       "      <td>2018.06.25</td>\n",
       "      <td>2018.06.25</td>\n",
       "      <td>6303.0</td>\n",
       "      <td>nan</td>\n",
       "      <td>nan</td>\n",
       "    </tr>\n",
       "    <tr>\n",
       "      <th>1</th>\n",
       "      <td>20180618</td>\n",
       "      <td>18-Jun-2018</td>\n",
       "      <td>2018.0</td>\n",
       "      <td>Unprovoked</td>\n",
       "      <td>USA</td>\n",
       "      <td>Georgia</td>\n",
       "      <td>St. Simon Island, Glynn County</td>\n",
       "      <td>Standing</td>\n",
       "      <td>Adyson McNeely</td>\n",
       "      <td>F</td>\n",
       "      <td>...</td>\n",
       "      <td>nan</td>\n",
       "      <td>K.McMurray, TrackingSharks.com</td>\n",
       "      <td>2018.06.18-McNeely.pdf</td>\n",
       "      <td>http://sharkattackfile.net/spreadsheets/pdf_di...</td>\n",
       "      <td>http://sharkattackfile.net/spreadsheets/pdf_di...</td>\n",
       "      <td>2018.06.18</td>\n",
       "      <td>2018.06.18</td>\n",
       "      <td>6302.0</td>\n",
       "      <td>nan</td>\n",
       "      <td>nan</td>\n",
       "    </tr>\n",
       "    <tr>\n",
       "      <th>2</th>\n",
       "      <td>20180609</td>\n",
       "      <td>09-Jun-2018</td>\n",
       "      <td>2018.0</td>\n",
       "      <td>Invalid</td>\n",
       "      <td>USA</td>\n",
       "      <td>Hawaii</td>\n",
       "      <td>Habush, Oahu</td>\n",
       "      <td>Surfing</td>\n",
       "      <td>John Denges</td>\n",
       "      <td>M</td>\n",
       "      <td>...</td>\n",
       "      <td>nan</td>\n",
       "      <td>K.McMurray, TrackingSharks.com</td>\n",
       "      <td>2018.06.09-Denges.pdf</td>\n",
       "      <td>http://sharkattackfile.net/spreadsheets/pdf_di...</td>\n",
       "      <td>http://sharkattackfile.net/spreadsheets/pdf_di...</td>\n",
       "      <td>2018.06.09</td>\n",
       "      <td>2018.06.09</td>\n",
       "      <td>6301.0</td>\n",
       "      <td>nan</td>\n",
       "      <td>nan</td>\n",
       "    </tr>\n",
       "    <tr>\n",
       "      <th>3</th>\n",
       "      <td>20180608</td>\n",
       "      <td>08-Jun-2018</td>\n",
       "      <td>2018.0</td>\n",
       "      <td>Unprovoked</td>\n",
       "      <td>AUSTRALIA</td>\n",
       "      <td>New South Wales</td>\n",
       "      <td>Arrawarra Headland</td>\n",
       "      <td>Surfing</td>\n",
       "      <td>male</td>\n",
       "      <td>M</td>\n",
       "      <td>...</td>\n",
       "      <td>2 m shark</td>\n",
       "      <td>B. Myatt, GSAF</td>\n",
       "      <td>2018.06.08-Arrawarra.pdf</td>\n",
       "      <td>http://sharkattackfile.net/spreadsheets/pdf_di...</td>\n",
       "      <td>http://sharkattackfile.net/spreadsheets/pdf_di...</td>\n",
       "      <td>2018.06.08</td>\n",
       "      <td>2018.06.08</td>\n",
       "      <td>6300.0</td>\n",
       "      <td>nan</td>\n",
       "      <td>nan</td>\n",
       "    </tr>\n",
       "    <tr>\n",
       "      <th>4</th>\n",
       "      <td>20180604</td>\n",
       "      <td>04-Jun-2018</td>\n",
       "      <td>2018.0</td>\n",
       "      <td>Provoked</td>\n",
       "      <td>MEXICO</td>\n",
       "      <td>Colima</td>\n",
       "      <td>La Ticla</td>\n",
       "      <td>Free diving</td>\n",
       "      <td>Gustavo Ramos</td>\n",
       "      <td>M</td>\n",
       "      <td>...</td>\n",
       "      <td>Tiger shark, 3m</td>\n",
       "      <td>A .Kipper</td>\n",
       "      <td>2018.06.04-Ramos.pdf</td>\n",
       "      <td>http://sharkattackfile.net/spreadsheets/pdf_di...</td>\n",
       "      <td>http://sharkattackfile.net/spreadsheets/pdf_di...</td>\n",
       "      <td>2018.06.04</td>\n",
       "      <td>2018.06.04</td>\n",
       "      <td>6299.0</td>\n",
       "      <td>nan</td>\n",
       "      <td>nan</td>\n",
       "    </tr>\n",
       "    <tr>\n",
       "      <th>...</th>\n",
       "      <td>...</td>\n",
       "      <td>...</td>\n",
       "      <td>...</td>\n",
       "      <td>...</td>\n",
       "      <td>...</td>\n",
       "      <td>...</td>\n",
       "      <td>...</td>\n",
       "      <td>...</td>\n",
       "      <td>...</td>\n",
       "      <td>...</td>\n",
       "      <td>...</td>\n",
       "      <td>...</td>\n",
       "      <td>...</td>\n",
       "      <td>...</td>\n",
       "      <td>...</td>\n",
       "      <td>...</td>\n",
       "      <td>...</td>\n",
       "      <td>...</td>\n",
       "      <td>...</td>\n",
       "      <td>...</td>\n",
       "      <td>...</td>\n",
       "    </tr>\n",
       "    <tr>\n",
       "      <th>6172</th>\n",
       "      <td>15540000</td>\n",
       "      <td>Ca. 1554</td>\n",
       "      <td>1554.0</td>\n",
       "      <td>Unprovoked</td>\n",
       "      <td>FRANCE</td>\n",
       "      <td>Nice &amp; Marseilles</td>\n",
       "      <td>nan</td>\n",
       "      <td>nan</td>\n",
       "      <td>males (wearing armor)</td>\n",
       "      <td>M</td>\n",
       "      <td>...</td>\n",
       "      <td>Possibly white sharks</td>\n",
       "      <td>G. Rondelet</td>\n",
       "      <td>1554.00.00-Rondelet.pdf</td>\n",
       "      <td>http://sharkattackfile.net/spreadsheets/pdf_di...</td>\n",
       "      <td>http://sharkattackfile.net/spreadsheets/pdf_di...</td>\n",
       "      <td>1554.00.00</td>\n",
       "      <td>1554.00.00</td>\n",
       "      <td>131.0</td>\n",
       "      <td>nan</td>\n",
       "      <td>nan</td>\n",
       "    </tr>\n",
       "    <tr>\n",
       "      <th>6173</th>\n",
       "      <td>15430000</td>\n",
       "      <td>Ca. 1543</td>\n",
       "      <td>1543.0</td>\n",
       "      <td>Unprovoked</td>\n",
       "      <td>VENEZUELA</td>\n",
       "      <td>Magarita or Cubagua Islands</td>\n",
       "      <td>nan</td>\n",
       "      <td>Pearl diving</td>\n",
       "      <td>Indian slave</td>\n",
       "      <td>M</td>\n",
       "      <td>...</td>\n",
       "      <td>nan</td>\n",
       "      <td>J. Castro</td>\n",
       "      <td>1543.00.00.R-LasCasas.pdf</td>\n",
       "      <td>http://sharkattackfile.net/spreadsheets/pdf_di...</td>\n",
       "      <td>http://sharkattackfile.net/spreadsheets/pdf_di...</td>\n",
       "      <td>1543.00.00</td>\n",
       "      <td>1543.00.00</td>\n",
       "      <td>130.0</td>\n",
       "      <td>nan</td>\n",
       "      <td>nan</td>\n",
       "    </tr>\n",
       "    <tr>\n",
       "      <th>6174</th>\n",
       "      <td>05000000</td>\n",
       "      <td>Circa 500 A.D.</td>\n",
       "      <td>500.0</td>\n",
       "      <td>Unprovoked</td>\n",
       "      <td>MEXICO</td>\n",
       "      <td>nan</td>\n",
       "      <td>nan</td>\n",
       "      <td>nan</td>\n",
       "      <td>male</td>\n",
       "      <td>M</td>\n",
       "      <td>...</td>\n",
       "      <td>nan</td>\n",
       "      <td>J. Castro</td>\n",
       "      <td>500AD-Mexico.pdf</td>\n",
       "      <td>http://sharkattackfile.net/spreadsheets/pdf_di...</td>\n",
       "      <td>http://sharkattackfile.net/spreadsheets/pdf_di...</td>\n",
       "      <td>0500.00.00</td>\n",
       "      <td>0500.00.00</td>\n",
       "      <td>129.0</td>\n",
       "      <td>nan</td>\n",
       "      <td>nan</td>\n",
       "    </tr>\n",
       "    <tr>\n",
       "      <th>6175</th>\n",
       "      <td>00770000</td>\n",
       "      <td>77  A.D.</td>\n",
       "      <td>77.0</td>\n",
       "      <td>Unprovoked</td>\n",
       "      <td>nan</td>\n",
       "      <td>Ionian Sea</td>\n",
       "      <td>nan</td>\n",
       "      <td>Sponge diving</td>\n",
       "      <td>males</td>\n",
       "      <td>M</td>\n",
       "      <td>...</td>\n",
       "      <td>nan</td>\n",
       "      <td>Perils mentioned by Pliny the Elder (23 A.D. t...</td>\n",
       "      <td>77AD-Pliny.pdf</td>\n",
       "      <td>http://sharkattackfile.net/spreadsheets/pdf_di...</td>\n",
       "      <td>http://sharkattackfile.net/spreadsheets/pdf_di...</td>\n",
       "      <td>0077.00.00</td>\n",
       "      <td>0077.00.00</td>\n",
       "      <td>128.0</td>\n",
       "      <td>nan</td>\n",
       "      <td>nan</td>\n",
       "    </tr>\n",
       "    <tr>\n",
       "      <th>6176</th>\n",
       "      <td>00050000</td>\n",
       "      <td>Ca. 5 A.D.</td>\n",
       "      <td>5.0</td>\n",
       "      <td>Unprovoked</td>\n",
       "      <td>AUSTRALIA</td>\n",
       "      <td>New South Wales</td>\n",
       "      <td>Bondi</td>\n",
       "      <td>nan</td>\n",
       "      <td>male</td>\n",
       "      <td>M</td>\n",
       "      <td>...</td>\n",
       "      <td>nan</td>\n",
       "      <td>Waverly Library</td>\n",
       "      <td>0005.00.00-AustralianAboriginal.pdf</td>\n",
       "      <td>http://sharkattackfile.net/spreadsheets/pdf_di...</td>\n",
       "      <td>http://sharkattackfile.net/spreadsheets/pdf_di...</td>\n",
       "      <td>0005.00.00</td>\n",
       "      <td>0005.00.00</td>\n",
       "      <td>127.0</td>\n",
       "      <td>nan</td>\n",
       "      <td>nan</td>\n",
       "    </tr>\n",
       "  </tbody>\n",
       "</table>\n",
       "<p>6176 rows × 24 columns</p>\n",
       "</div>"
      ],
      "text/plain": [
       "     Case Number            Date    Year        Type    Country  \\\n",
       "0       20180625     25-Jun-2018  2018.0  Unprovoked        USA   \n",
       "1       20180618     18-Jun-2018  2018.0  Unprovoked        USA   \n",
       "2       20180609     09-Jun-2018  2018.0     Invalid        USA   \n",
       "3       20180608     08-Jun-2018  2018.0  Unprovoked  AUSTRALIA   \n",
       "4       20180604     04-Jun-2018  2018.0    Provoked     MEXICO   \n",
       "...          ...             ...     ...         ...        ...   \n",
       "6172    15540000        Ca. 1554  1554.0  Unprovoked     FRANCE   \n",
       "6173    15430000        Ca. 1543  1543.0  Unprovoked  VENEZUELA   \n",
       "6174    05000000  Circa 500 A.D.   500.0  Unprovoked     MEXICO   \n",
       "6175    00770000        77  A.D.    77.0  Unprovoked        nan   \n",
       "6176    00050000      Ca. 5 A.D.     5.0  Unprovoked  AUSTRALIA   \n",
       "\n",
       "                             Area                        Location  \\\n",
       "0                      California     Oceanside, San Diego County   \n",
       "1                         Georgia  St. Simon Island, Glynn County   \n",
       "2                          Hawaii                    Habush, Oahu   \n",
       "3                 New South Wales              Arrawarra Headland   \n",
       "4                          Colima                        La Ticla   \n",
       "...                           ...                             ...   \n",
       "6172            Nice & Marseilles                             nan   \n",
       "6173  Magarita or Cubagua Islands                             nan   \n",
       "6174                          nan                             nan   \n",
       "6175                   Ionian Sea                             nan   \n",
       "6176              New South Wales                           Bondi   \n",
       "\n",
       "           Activity                   Name Sex   ...               Species   \\\n",
       "0          Paddling            Julie Wolfe    F  ...            White shark   \n",
       "1          Standing        Adyson McNeely     F  ...                    nan   \n",
       "2           Surfing            John Denges    M  ...                    nan   \n",
       "3           Surfing                   male    M  ...              2 m shark   \n",
       "4       Free diving         Gustavo Ramos     M  ...        Tiger shark, 3m   \n",
       "...             ...                    ...  ...  ...                    ...   \n",
       "6172            nan  males (wearing armor)    M  ...  Possibly white sharks   \n",
       "6173   Pearl diving           Indian slave    M  ...                    nan   \n",
       "6174            nan                   male    M  ...                    nan   \n",
       "6175  Sponge diving                  males    M  ...                    nan   \n",
       "6176            nan                   male    M  ...                    nan   \n",
       "\n",
       "                                 Investigator or Source  \\\n",
       "0                                      R. Collier, GSAF   \n",
       "1                        K.McMurray, TrackingSharks.com   \n",
       "2                        K.McMurray, TrackingSharks.com   \n",
       "3                                        B. Myatt, GSAF   \n",
       "4                                             A .Kipper   \n",
       "...                                                 ...   \n",
       "6172                                       G. Rondelet    \n",
       "6173                                          J. Castro   \n",
       "6174                                          J. Castro   \n",
       "6175  Perils mentioned by Pliny the Elder (23 A.D. t...   \n",
       "6176                                    Waverly Library   \n",
       "\n",
       "                                      pdf  \\\n",
       "0                    2018.06.25-Wolfe.pdf   \n",
       "1                  2018.06.18-McNeely.pdf   \n",
       "2                   2018.06.09-Denges.pdf   \n",
       "3                2018.06.08-Arrawarra.pdf   \n",
       "4                    2018.06.04-Ramos.pdf   \n",
       "...                                   ...   \n",
       "6172              1554.00.00-Rondelet.pdf   \n",
       "6173            1543.00.00.R-LasCasas.pdf   \n",
       "6174                     500AD-Mexico.pdf   \n",
       "6175                       77AD-Pliny.pdf   \n",
       "6176  0005.00.00-AustralianAboriginal.pdf   \n",
       "\n",
       "                                           href formula  \\\n",
       "0     http://sharkattackfile.net/spreadsheets/pdf_di...   \n",
       "1     http://sharkattackfile.net/spreadsheets/pdf_di...   \n",
       "2     http://sharkattackfile.net/spreadsheets/pdf_di...   \n",
       "3     http://sharkattackfile.net/spreadsheets/pdf_di...   \n",
       "4     http://sharkattackfile.net/spreadsheets/pdf_di...   \n",
       "...                                                 ...   \n",
       "6172  http://sharkattackfile.net/spreadsheets/pdf_di...   \n",
       "6173  http://sharkattackfile.net/spreadsheets/pdf_di...   \n",
       "6174  http://sharkattackfile.net/spreadsheets/pdf_di...   \n",
       "6175  http://sharkattackfile.net/spreadsheets/pdf_di...   \n",
       "6176  http://sharkattackfile.net/spreadsheets/pdf_di...   \n",
       "\n",
       "                                                   href Case Number.1  \\\n",
       "0     http://sharkattackfile.net/spreadsheets/pdf_di...    2018.06.25   \n",
       "1     http://sharkattackfile.net/spreadsheets/pdf_di...    2018.06.18   \n",
       "2     http://sharkattackfile.net/spreadsheets/pdf_di...    2018.06.09   \n",
       "3     http://sharkattackfile.net/spreadsheets/pdf_di...    2018.06.08   \n",
       "4     http://sharkattackfile.net/spreadsheets/pdf_di...    2018.06.04   \n",
       "...                                                 ...           ...   \n",
       "6172  http://sharkattackfile.net/spreadsheets/pdf_di...    1554.00.00   \n",
       "6173  http://sharkattackfile.net/spreadsheets/pdf_di...    1543.00.00   \n",
       "6174  http://sharkattackfile.net/spreadsheets/pdf_di...    0500.00.00   \n",
       "6175  http://sharkattackfile.net/spreadsheets/pdf_di...    0077.00.00   \n",
       "6176  http://sharkattackfile.net/spreadsheets/pdf_di...    0005.00.00   \n",
       "\n",
       "     Case Number.2 original order Unnamed: 22 Unnamed: 23  \n",
       "0       2018.06.25         6303.0         nan         nan  \n",
       "1       2018.06.18         6302.0         nan         nan  \n",
       "2       2018.06.09         6301.0         nan         nan  \n",
       "3       2018.06.08         6300.0         nan         nan  \n",
       "4       2018.06.04         6299.0         nan         nan  \n",
       "...            ...            ...         ...         ...  \n",
       "6172    1554.00.00          131.0         nan         nan  \n",
       "6173    1543.00.00          130.0         nan         nan  \n",
       "6174    0500.00.00          129.0         nan         nan  \n",
       "6175    0077.00.00          128.0         nan         nan  \n",
       "6176    0005.00.00          127.0         nan         nan  \n",
       "\n",
       "[6176 rows x 24 columns]"
      ]
     },
     "execution_count": 80,
     "metadata": {},
     "output_type": "execute_result"
    }
   ],
   "source": [
    "df_normalizado"
   ]
  },
  {
   "cell_type": "code",
   "execution_count": 81,
   "id": "63670ed8",
   "metadata": {},
   "outputs": [
    {
     "name": "stdout",
     "output_type": "stream",
     "text": [
      "La cantidad de caracteres especiales en el DataFrame normalizado es: 65063\n"
     ]
    }
   ],
   "source": [
    "count_special_normalizado = df_normalizado.applymap(lambda x: bool(re.findall(regex_special, str(x)))).sum().sum()\n",
    "print(\"La cantidad de caracteres especiales en el DataFrame normalizado es:\", count_special_normalizado)"
   ]
  },
  {
   "cell_type": "code",
   "execution_count": 82,
   "id": "d283fc2c",
   "metadata": {},
   "outputs": [],
   "source": [
    "# Antes había 65120 caracteres especiales, pero tras correr la función normalize a lo largo del df, ahora se han reducido a 65063"
   ]
  },
  {
   "cell_type": "code",
   "execution_count": null,
   "id": "2c086e0f",
   "metadata": {},
   "outputs": [],
   "source": [
    "# Ahora voy a borrar todos los caracteres especiales del df"
   ]
  },
  {
   "cell_type": "code",
   "execution_count": 85,
   "id": "e30bb2b7",
   "metadata": {},
   "outputs": [],
   "source": [
    "import re\n",
    "\n",
    "regex_special = r'[^\\w\\s]'\n",
    "df_clean = df.replace(regex_special, '', regex=True)"
   ]
  },
  {
   "cell_type": "code",
   "execution_count": 86,
   "id": "7d4a451c",
   "metadata": {},
   "outputs": [
    {
     "name": "stdout",
     "output_type": "stream",
     "text": [
      "La cantidad de caracteres especiales en el DataFrame limpio es: 12350\n"
     ]
    }
   ],
   "source": [
    "# compruebo que no hay caracteres especiales\n",
    "\n",
    "import re\n",
    "\n",
    "regex_special = r'[^\\w\\s]'\n",
    "count_special = df_clean.applymap(lambda x: bool(re.findall(regex_special, str(x)))).sum().sum()\n",
    "print(\"La cantidad de caracteres especiales en el DataFrame limpio es:\", count_special)\n"
   ]
  },
  {
   "cell_type": "code",
   "execution_count": null,
   "id": "1996a49d",
   "metadata": {},
   "outputs": [],
   "source": [
    "# Se han eliminado muchos, aunque todavía quedan. Los voy a dejar así por ahora."
   ]
  },
  {
   "cell_type": "code",
   "execution_count": null,
   "id": "251a70e5",
   "metadata": {},
   "outputs": [],
   "source": []
  },
  {
   "cell_type": "code",
   "execution_count": null,
   "id": "e90cf395",
   "metadata": {},
   "outputs": [],
   "source": []
  },
  {
   "cell_type": "code",
   "execution_count": null,
   "id": "4e1afcb8",
   "metadata": {},
   "outputs": [],
   "source": []
  }
 ],
 "metadata": {
  "kernelspec": {
   "display_name": "Python 3 (ipykernel)",
   "language": "python",
   "name": "python3"
  },
  "language_info": {
   "codemirror_mode": {
    "name": "ipython",
    "version": 3
   },
   "file_extension": ".py",
   "mimetype": "text/x-python",
   "name": "python",
   "nbconvert_exporter": "python",
   "pygments_lexer": "ipython3",
   "version": "3.9.13"
  }
 },
 "nbformat": 4,
 "nbformat_minor": 5
}
