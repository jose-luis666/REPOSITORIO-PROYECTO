{
 "cells": [
  {
   "cell_type": "markdown",
   "id": "c5f00ddf",
   "metadata": {},
   "source": [
    "# **PROYECTO SHARKS**"
   ]
  },
  {
   "cell_type": "code",
   "execution_count": 1,
   "id": "633e7e9e",
   "metadata": {},
   "outputs": [],
   "source": [
    "import pandas as pd\n",
    "import numpy as np"
   ]
  },
  {
   "cell_type": "code",
   "execution_count": 2,
   "id": "61b1ada8",
   "metadata": {},
   "outputs": [],
   "source": [
    "df = pd.read_csv('../data/attacks.csv', encoding='latin-1')"
   ]
  },
  {
   "cell_type": "code",
   "execution_count": 3,
   "id": "16921b60",
   "metadata": {},
   "outputs": [
    {
     "data": {
      "text/html": [
       "<div>\n",
       "<style scoped>\n",
       "    .dataframe tbody tr th:only-of-type {\n",
       "        vertical-align: middle;\n",
       "    }\n",
       "\n",
       "    .dataframe tbody tr th {\n",
       "        vertical-align: top;\n",
       "    }\n",
       "\n",
       "    .dataframe thead th {\n",
       "        text-align: right;\n",
       "    }\n",
       "</style>\n",
       "<table border=\"1\" class=\"dataframe\">\n",
       "  <thead>\n",
       "    <tr style=\"text-align: right;\">\n",
       "      <th></th>\n",
       "      <th>Case Number</th>\n",
       "      <th>Date</th>\n",
       "      <th>Year</th>\n",
       "      <th>Type</th>\n",
       "      <th>Country</th>\n",
       "      <th>Area</th>\n",
       "      <th>Location</th>\n",
       "      <th>Activity</th>\n",
       "      <th>Name</th>\n",
       "      <th>Sex</th>\n",
       "      <th>...</th>\n",
       "      <th>Species</th>\n",
       "      <th>Investigator or Source</th>\n",
       "      <th>pdf</th>\n",
       "      <th>href formula</th>\n",
       "      <th>href</th>\n",
       "      <th>Case Number.1</th>\n",
       "      <th>Case Number.2</th>\n",
       "      <th>original order</th>\n",
       "      <th>Unnamed: 22</th>\n",
       "      <th>Unnamed: 23</th>\n",
       "    </tr>\n",
       "  </thead>\n",
       "  <tbody>\n",
       "    <tr>\n",
       "      <th>0</th>\n",
       "      <td>2018.06.25</td>\n",
       "      <td>25-Jun-2018</td>\n",
       "      <td>2018.0</td>\n",
       "      <td>Boating</td>\n",
       "      <td>USA</td>\n",
       "      <td>California</td>\n",
       "      <td>Oceanside, San Diego County</td>\n",
       "      <td>Paddling</td>\n",
       "      <td>Julie Wolfe</td>\n",
       "      <td>F</td>\n",
       "      <td>...</td>\n",
       "      <td>White shark</td>\n",
       "      <td>R. Collier, GSAF</td>\n",
       "      <td>2018.06.25-Wolfe.pdf</td>\n",
       "      <td>http://sharkattackfile.net/spreadsheets/pdf_di...</td>\n",
       "      <td>http://sharkattackfile.net/spreadsheets/pdf_di...</td>\n",
       "      <td>2018.06.25</td>\n",
       "      <td>2018.06.25</td>\n",
       "      <td>6303.0</td>\n",
       "      <td>NaN</td>\n",
       "      <td>NaN</td>\n",
       "    </tr>\n",
       "    <tr>\n",
       "      <th>1</th>\n",
       "      <td>2018.06.18</td>\n",
       "      <td>18-Jun-2018</td>\n",
       "      <td>2018.0</td>\n",
       "      <td>Unprovoked</td>\n",
       "      <td>USA</td>\n",
       "      <td>Georgia</td>\n",
       "      <td>St. Simon Island, Glynn County</td>\n",
       "      <td>Standing</td>\n",
       "      <td>Adyson McNeely</td>\n",
       "      <td>F</td>\n",
       "      <td>...</td>\n",
       "      <td>NaN</td>\n",
       "      <td>K.McMurray, TrackingSharks.com</td>\n",
       "      <td>2018.06.18-McNeely.pdf</td>\n",
       "      <td>http://sharkattackfile.net/spreadsheets/pdf_di...</td>\n",
       "      <td>http://sharkattackfile.net/spreadsheets/pdf_di...</td>\n",
       "      <td>2018.06.18</td>\n",
       "      <td>2018.06.18</td>\n",
       "      <td>6302.0</td>\n",
       "      <td>NaN</td>\n",
       "      <td>NaN</td>\n",
       "    </tr>\n",
       "    <tr>\n",
       "      <th>2</th>\n",
       "      <td>2018.06.09</td>\n",
       "      <td>09-Jun-2018</td>\n",
       "      <td>2018.0</td>\n",
       "      <td>Invalid</td>\n",
       "      <td>USA</td>\n",
       "      <td>Hawaii</td>\n",
       "      <td>Habush, Oahu</td>\n",
       "      <td>Surfing</td>\n",
       "      <td>John Denges</td>\n",
       "      <td>M</td>\n",
       "      <td>...</td>\n",
       "      <td>NaN</td>\n",
       "      <td>K.McMurray, TrackingSharks.com</td>\n",
       "      <td>2018.06.09-Denges.pdf</td>\n",
       "      <td>http://sharkattackfile.net/spreadsheets/pdf_di...</td>\n",
       "      <td>http://sharkattackfile.net/spreadsheets/pdf_di...</td>\n",
       "      <td>2018.06.09</td>\n",
       "      <td>2018.06.09</td>\n",
       "      <td>6301.0</td>\n",
       "      <td>NaN</td>\n",
       "      <td>NaN</td>\n",
       "    </tr>\n",
       "    <tr>\n",
       "      <th>3</th>\n",
       "      <td>2018.06.08</td>\n",
       "      <td>08-Jun-2018</td>\n",
       "      <td>2018.0</td>\n",
       "      <td>Unprovoked</td>\n",
       "      <td>AUSTRALIA</td>\n",
       "      <td>New South Wales</td>\n",
       "      <td>Arrawarra Headland</td>\n",
       "      <td>Surfing</td>\n",
       "      <td>male</td>\n",
       "      <td>M</td>\n",
       "      <td>...</td>\n",
       "      <td>2 m shark</td>\n",
       "      <td>B. Myatt, GSAF</td>\n",
       "      <td>2018.06.08-Arrawarra.pdf</td>\n",
       "      <td>http://sharkattackfile.net/spreadsheets/pdf_di...</td>\n",
       "      <td>http://sharkattackfile.net/spreadsheets/pdf_di...</td>\n",
       "      <td>2018.06.08</td>\n",
       "      <td>2018.06.08</td>\n",
       "      <td>6300.0</td>\n",
       "      <td>NaN</td>\n",
       "      <td>NaN</td>\n",
       "    </tr>\n",
       "    <tr>\n",
       "      <th>4</th>\n",
       "      <td>2018.06.04</td>\n",
       "      <td>04-Jun-2018</td>\n",
       "      <td>2018.0</td>\n",
       "      <td>Provoked</td>\n",
       "      <td>MEXICO</td>\n",
       "      <td>Colima</td>\n",
       "      <td>La Ticla</td>\n",
       "      <td>Free diving</td>\n",
       "      <td>Gustavo Ramos</td>\n",
       "      <td>M</td>\n",
       "      <td>...</td>\n",
       "      <td>Tiger shark, 3m</td>\n",
       "      <td>A .Kipper</td>\n",
       "      <td>2018.06.04-Ramos.pdf</td>\n",
       "      <td>http://sharkattackfile.net/spreadsheets/pdf_di...</td>\n",
       "      <td>http://sharkattackfile.net/spreadsheets/pdf_di...</td>\n",
       "      <td>2018.06.04</td>\n",
       "      <td>2018.06.04</td>\n",
       "      <td>6299.0</td>\n",
       "      <td>NaN</td>\n",
       "      <td>NaN</td>\n",
       "    </tr>\n",
       "  </tbody>\n",
       "</table>\n",
       "<p>5 rows × 24 columns</p>\n",
       "</div>"
      ],
      "text/plain": [
       "  Case Number         Date    Year        Type    Country             Area  \\\n",
       "0  2018.06.25  25-Jun-2018  2018.0     Boating        USA       California   \n",
       "1  2018.06.18  18-Jun-2018  2018.0  Unprovoked        USA          Georgia   \n",
       "2  2018.06.09  09-Jun-2018  2018.0     Invalid        USA           Hawaii   \n",
       "3  2018.06.08  08-Jun-2018  2018.0  Unprovoked  AUSTRALIA  New South Wales   \n",
       "4  2018.06.04  04-Jun-2018  2018.0    Provoked     MEXICO           Colima   \n",
       "\n",
       "                         Location     Activity             Name Sex   ...  \\\n",
       "0     Oceanside, San Diego County     Paddling      Julie Wolfe    F  ...   \n",
       "1  St. Simon Island, Glynn County     Standing  Adyson McNeely     F  ...   \n",
       "2                    Habush, Oahu      Surfing      John Denges    M  ...   \n",
       "3              Arrawarra Headland      Surfing             male    M  ...   \n",
       "4                        La Ticla  Free diving   Gustavo Ramos     M  ...   \n",
       "\n",
       "          Species           Investigator or Source                       pdf  \\\n",
       "0      White shark                R. Collier, GSAF      2018.06.25-Wolfe.pdf   \n",
       "1              NaN  K.McMurray, TrackingSharks.com    2018.06.18-McNeely.pdf   \n",
       "2              NaN  K.McMurray, TrackingSharks.com     2018.06.09-Denges.pdf   \n",
       "3        2 m shark                  B. Myatt, GSAF  2018.06.08-Arrawarra.pdf   \n",
       "4  Tiger shark, 3m                       A .Kipper      2018.06.04-Ramos.pdf   \n",
       "\n",
       "                                        href formula  \\\n",
       "0  http://sharkattackfile.net/spreadsheets/pdf_di...   \n",
       "1  http://sharkattackfile.net/spreadsheets/pdf_di...   \n",
       "2  http://sharkattackfile.net/spreadsheets/pdf_di...   \n",
       "3  http://sharkattackfile.net/spreadsheets/pdf_di...   \n",
       "4  http://sharkattackfile.net/spreadsheets/pdf_di...   \n",
       "\n",
       "                                                href Case Number.1  \\\n",
       "0  http://sharkattackfile.net/spreadsheets/pdf_di...    2018.06.25   \n",
       "1  http://sharkattackfile.net/spreadsheets/pdf_di...    2018.06.18   \n",
       "2  http://sharkattackfile.net/spreadsheets/pdf_di...    2018.06.09   \n",
       "3  http://sharkattackfile.net/spreadsheets/pdf_di...    2018.06.08   \n",
       "4  http://sharkattackfile.net/spreadsheets/pdf_di...    2018.06.04   \n",
       "\n",
       "  Case Number.2 original order Unnamed: 22 Unnamed: 23  \n",
       "0    2018.06.25         6303.0         NaN         NaN  \n",
       "1    2018.06.18         6302.0         NaN         NaN  \n",
       "2    2018.06.09         6301.0         NaN         NaN  \n",
       "3    2018.06.08         6300.0         NaN         NaN  \n",
       "4    2018.06.04         6299.0         NaN         NaN  \n",
       "\n",
       "[5 rows x 24 columns]"
      ]
     },
     "execution_count": 3,
     "metadata": {},
     "output_type": "execute_result"
    }
   ],
   "source": [
    "df.head()"
   ]
  },
  {
   "cell_type": "code",
   "execution_count": 4,
   "id": "dc0d3ad9",
   "metadata": {},
   "outputs": [
    {
     "data": {
      "text/plain": [
       "(25723, 24)"
      ]
     },
     "execution_count": 4,
     "metadata": {},
     "output_type": "execute_result"
    }
   ],
   "source": [
    "df.shape"
   ]
  },
  {
   "cell_type": "code",
   "execution_count": 5,
   "id": "b9cef2a4",
   "metadata": {},
   "outputs": [
    {
     "data": {
      "text/plain": [
       "Index(['Case Number', 'Date', 'Year', 'Type', 'Country', 'Area', 'Location',\n",
       "       'Activity', 'Name', 'Sex ', 'Age', 'Injury', 'Fatal (Y/N)', 'Time',\n",
       "       'Species ', 'Investigator or Source', 'pdf', 'href formula', 'href',\n",
       "       'Case Number.1', 'Case Number.2', 'original order', 'Unnamed: 22',\n",
       "       'Unnamed: 23'],\n",
       "      dtype='object')"
      ]
     },
     "execution_count": 5,
     "metadata": {},
     "output_type": "execute_result"
    }
   ],
   "source": [
    "df.columns"
   ]
  },
  {
   "cell_type": "code",
   "execution_count": 6,
   "id": "899775b3",
   "metadata": {},
   "outputs": [
    {
     "data": {
      "text/plain": [
       "(25723, 2)"
      ]
     },
     "execution_count": 6,
     "metadata": {},
     "output_type": "execute_result"
    }
   ],
   "source": [
    "df._get_numeric_data().shape  #con esto saco el shape de los elementos numéricos"
   ]
  },
  {
   "cell_type": "code",
   "execution_count": 7,
   "id": "97ee4302",
   "metadata": {},
   "outputs": [
    {
     "data": {
      "text/plain": [
       "(25723, 22)"
      ]
     },
     "execution_count": 7,
     "metadata": {},
     "output_type": "execute_result"
    }
   ],
   "source": [
    "df.select_dtypes('object').shape  # con esto saco el shape de los elementos tipo object"
   ]
  },
  {
   "cell_type": "code",
   "execution_count": 8,
   "id": "328c1c72",
   "metadata": {},
   "outputs": [
    {
     "name": "stdout",
     "output_type": "stream",
     "text": [
      "<class 'pandas.core.frame.DataFrame'>\n",
      "RangeIndex: 25723 entries, 0 to 25722\n",
      "Data columns (total 24 columns):\n",
      " #   Column                  Non-Null Count  Dtype  \n",
      "---  ------                  --------------  -----  \n",
      " 0   Case Number             8702 non-null   object \n",
      " 1   Date                    6302 non-null   object \n",
      " 2   Year                    6300 non-null   float64\n",
      " 3   Type                    6298 non-null   object \n",
      " 4   Country                 6252 non-null   object \n",
      " 5   Area                    5847 non-null   object \n",
      " 6   Location                5762 non-null   object \n",
      " 7   Activity                5758 non-null   object \n",
      " 8   Name                    6092 non-null   object \n",
      " 9   Sex                     5737 non-null   object \n",
      " 10  Age                     3471 non-null   object \n",
      " 11  Injury                  6274 non-null   object \n",
      " 12  Fatal (Y/N)             5763 non-null   object \n",
      " 13  Time                    2948 non-null   object \n",
      " 14  Species                 3464 non-null   object \n",
      " 15  Investigator or Source  6285 non-null   object \n",
      " 16  pdf                     6302 non-null   object \n",
      " 17  href formula            6301 non-null   object \n",
      " 18  href                    6302 non-null   object \n",
      " 19  Case Number.1           6302 non-null   object \n",
      " 20  Case Number.2           6302 non-null   object \n",
      " 21  original order          6309 non-null   float64\n",
      " 22  Unnamed: 22             1 non-null      object \n",
      " 23  Unnamed: 23             2 non-null      object \n",
      "dtypes: float64(2), object(22)\n",
      "memory usage: 4.7+ MB\n"
     ]
    }
   ],
   "source": [
    "df.info()"
   ]
  },
  {
   "cell_type": "markdown",
   "id": "5ff29203",
   "metadata": {},
   "source": [
    "# **La mayoría de columnas del DF albergan datos de tipo object, frente a 2 columnas de tipo Float**"
   ]
  },
  {
   "cell_type": "markdown",
   "id": "d6d631fc",
   "metadata": {},
   "source": [
    "# Ahora voy a borrar valores nulos "
   ]
  },
  {
   "cell_type": "code",
   "execution_count": 12,
   "id": "58ac485a",
   "metadata": {},
   "outputs": [
    {
     "data": {
      "text/plain": [
       "19421"
      ]
     },
     "execution_count": 12,
     "metadata": {},
     "output_type": "execute_result"
    }
   ],
   "source": [
    "umbral = 0.6  # Define el umbral del 60% de valores nulos\n",
    "porcentaje_nulos = df.apply(lambda row: row.isnull().sum() / len(row), axis=1)  # Calcula el porcentaje de valores nulos en cada fila\n",
    "num_filas = sum(porcentaje_nulos > umbral)  # Cuenta el número de filas que tienen un porcentaje de valores nulos mayor que el umbral\n",
    "\n",
    "num_filas"
   ]
  },
  {
   "cell_type": "code",
   "execution_count": 13,
   "id": "bde5059c",
   "metadata": {},
   "outputs": [],
   "source": [
    "# Ahora voy a borrar estas filas porque tienen demasiados valores nulos utilizando drop.\n",
    "\n",
    "indices = porcentaje_nulos[porcentaje_nulos > umbral].index  # Obtiene los índices de las filas que cumplen el umbral\n",
    "df = df.drop(indices, axis=0)  # Elimina las filas que cumplen el umbral del DataFrame"
   ]
  },
  {
   "cell_type": "code",
   "execution_count": 14,
   "id": "ff0b6b60",
   "metadata": {},
   "outputs": [
    {
     "data": {
      "text/plain": [
       "(6302, 24)"
      ]
     },
     "execution_count": 14,
     "metadata": {},
     "output_type": "execute_result"
    }
   ],
   "source": [
    "df.shape"
   ]
  },
  {
   "cell_type": "code",
   "execution_count": null,
   "id": "b11aed58",
   "metadata": {},
   "outputs": [],
   "source": [
    "# Ahora tengo muchas menos filas, genial"
   ]
  },
  {
   "cell_type": "markdown",
   "id": "1103ad34",
   "metadata": {},
   "source": [
    "# **Filas duplicadas** "
   ]
  },
  {
   "cell_type": "code",
   "execution_count": 16,
   "id": "8b86ce98",
   "metadata": {},
   "outputs": [
    {
     "data": {
      "text/html": [
       "<div>\n",
       "<style scoped>\n",
       "    .dataframe tbody tr th:only-of-type {\n",
       "        vertical-align: middle;\n",
       "    }\n",
       "\n",
       "    .dataframe tbody tr th {\n",
       "        vertical-align: top;\n",
       "    }\n",
       "\n",
       "    .dataframe thead th {\n",
       "        text-align: right;\n",
       "    }\n",
       "</style>\n",
       "<table border=\"1\" class=\"dataframe\">\n",
       "  <thead>\n",
       "    <tr style=\"text-align: right;\">\n",
       "      <th></th>\n",
       "      <th>Case Number</th>\n",
       "      <th>Date</th>\n",
       "      <th>Year</th>\n",
       "      <th>Type</th>\n",
       "      <th>Country</th>\n",
       "      <th>Area</th>\n",
       "      <th>Location</th>\n",
       "      <th>Activity</th>\n",
       "      <th>Name</th>\n",
       "      <th>Sex</th>\n",
       "      <th>...</th>\n",
       "      <th>Species</th>\n",
       "      <th>Investigator or Source</th>\n",
       "      <th>pdf</th>\n",
       "      <th>href formula</th>\n",
       "      <th>href</th>\n",
       "      <th>Case Number.1</th>\n",
       "      <th>Case Number.2</th>\n",
       "      <th>original order</th>\n",
       "      <th>Unnamed: 22</th>\n",
       "      <th>Unnamed: 23</th>\n",
       "    </tr>\n",
       "  </thead>\n",
       "  <tbody>\n",
       "  </tbody>\n",
       "</table>\n",
       "<p>0 rows × 24 columns</p>\n",
       "</div>"
      ],
      "text/plain": [
       "Empty DataFrame\n",
       "Columns: [Case Number, Date, Year, Type, Country, Area, Location, Activity, Name, Sex , Age, Injury, Fatal (Y/N), Time, Species , Investigator or Source, pdf, href formula, href, Case Number.1, Case Number.2, original order, Unnamed: 22, Unnamed: 23]\n",
       "Index: []\n",
       "\n",
       "[0 rows x 24 columns]"
      ]
     },
     "execution_count": 16,
     "metadata": {},
     "output_type": "execute_result"
    }
   ],
   "source": [
    "duplicados = df[df.duplicated()]\n",
    "\n",
    "duplicados"
   ]
  },
  {
   "cell_type": "code",
   "execution_count": null,
   "id": "a9c21186",
   "metadata": {},
   "outputs": [],
   "source": [
    "# Esto significa que no hay filas duplicadas, genial"
   ]
  },
  {
   "cell_type": "markdown",
   "id": "79e5f76c",
   "metadata": {},
   "source": [
    "# **Ahora voy a ir columna por columna limpiando los datos** "
   ]
  },
  {
   "cell_type": "markdown",
   "id": "5bc68bce",
   "metadata": {},
   "source": [
    "**COLUMNA 1 - Case Number**"
   ]
  },
  {
   "cell_type": "code",
   "execution_count": 17,
   "id": "108d72cd",
   "metadata": {},
   "outputs": [
    {
     "data": {
      "text/plain": [
       "0       <class 'str'>\n",
       "1       <class 'str'>\n",
       "2       <class 'str'>\n",
       "3       <class 'str'>\n",
       "4       <class 'str'>\n",
       "            ...      \n",
       "6297    <class 'str'>\n",
       "6298    <class 'str'>\n",
       "6299    <class 'str'>\n",
       "6300    <class 'str'>\n",
       "6301    <class 'str'>\n",
       "Name: Case Number, Length: 6302, dtype: object"
      ]
     },
     "execution_count": 17,
     "metadata": {},
     "output_type": "execute_result"
    }
   ],
   "source": [
    "# Columna 1 : Case Number. Entiendo que es una especie de identificador, un ID.\n",
    "\n",
    "df['Case Number'].apply(type)"
   ]
  },
  {
   "cell_type": "code",
   "execution_count": null,
   "id": "1b9c47c7",
   "metadata": {},
   "outputs": [],
   "source": [
    "# Veo que son strings correspondientes a fechas.\n",
    "# Voy a quitarles los puntos entre medio. De esta manera voy a poder manejarlos mejor"
   ]
  },
  {
   "cell_type": "code",
   "execution_count": 19,
   "id": "8e827e2a",
   "metadata": {},
   "outputs": [],
   "source": [
    "df['Case Number'] = df['Case Number'].replace('\\.', '', regex=True)"
   ]
  },
  {
   "cell_type": "code",
   "execution_count": 20,
   "id": "6f78a52d",
   "metadata": {},
   "outputs": [
    {
     "name": "stdout",
     "output_type": "stream",
     "text": [
      "0       20180625\n",
      "1       20180618\n",
      "2       20180609\n",
      "3       20180608\n",
      "4       20180604\n",
      "          ...   \n",
      "6297      ND0005\n",
      "6298      ND0004\n",
      "6299      ND0003\n",
      "6300      ND0002\n",
      "6301      ND0001\n",
      "Name: Case Number, Length: 6302, dtype: object\n"
     ]
    }
   ],
   "source": [
    "print(df['Case Number'])"
   ]
  },
  {
   "cell_type": "code",
   "execution_count": null,
   "id": "d0d7ee5b",
   "metadata": {},
   "outputs": [],
   "source": [
    "# Veo que estos string IDs no sólo tienen una estructura tipo fecha, sino que también tienen la forma de, por ejemplo, ND0005\n",
    "# Por ahora eso me da igual, son IDs y cada uno se llama de una manera.\n",
    "# Parece que la mayoría de esos IDs tienen esos dos tipos de \"morfologías\"\n"
   ]
  },
  {
   "cell_type": "markdown",
   "id": "dfc28a33",
   "metadata": {},
   "source": [
    "**COLUMNA 2 - Date**"
   ]
  },
  {
   "cell_type": "code",
   "execution_count": null,
   "id": "da4c15c4",
   "metadata": {},
   "outputs": [],
   "source": [
    "# Esta columna representa fechas, se entiende que es la fecha del incidente\n",
    "\n",
    "# Compruebo el tipo de dato que contiene esta columna"
   ]
  },
  {
   "cell_type": "code",
   "execution_count": 25,
   "id": "d5339f73",
   "metadata": {},
   "outputs": [
    {
     "data": {
      "text/plain": [
       "0       <class 'str'>\n",
       "1       <class 'str'>\n",
       "2       <class 'str'>\n",
       "3       <class 'str'>\n",
       "4       <class 'str'>\n",
       "            ...      \n",
       "6297    <class 'str'>\n",
       "6298    <class 'str'>\n",
       "6299    <class 'str'>\n",
       "6300    <class 'str'>\n",
       "6301    <class 'str'>\n",
       "Name: Date, Length: 6302, dtype: object"
      ]
     },
     "execution_count": 25,
     "metadata": {},
     "output_type": "execute_result"
    }
   ],
   "source": [
    "df['Date'].apply(type)"
   ]
  },
  {
   "cell_type": "code",
   "execution_count": 26,
   "id": "b93ac461",
   "metadata": {},
   "outputs": [
    {
     "name": "stdout",
     "output_type": "stream",
     "text": [
      "0       25-Jun-2018\n",
      "1       18-Jun-2018\n",
      "2       09-Jun-2018\n",
      "3       08-Jun-2018\n",
      "4       04-Jun-2018\n",
      "           ...     \n",
      "6297    Before 1903\n",
      "6298    Before 1903\n",
      "6299      1900-1905\n",
      "6300      1883-1889\n",
      "6301      1845-1853\n",
      "Name: Date, Length: 6302, dtype: object\n"
     ]
    }
   ],
   "source": [
    "print(df['Date'])"
   ]
  },
  {
   "cell_type": "code",
   "execution_count": null,
   "id": "a5286cc8",
   "metadata": {},
   "outputs": [],
   "source": [
    "# Veo que la columna Date contiene datos de fechas pero escritos de manera diferente, muy lioso."
   ]
  },
  {
   "cell_type": "code",
   "execution_count": null,
   "id": "a0744501",
   "metadata": {},
   "outputs": [],
   "source": [
    "# Por otro lado, veo que la siguiente columna se llama Year, por lo que voy a ver qué tiene, por si me ayuda para decidir lo que hacer con la de Date."
   ]
  },
  {
   "cell_type": "code",
   "execution_count": 27,
   "id": "5a74777a",
   "metadata": {},
   "outputs": [
    {
     "name": "stdout",
     "output_type": "stream",
     "text": [
      "0       2018.0\n",
      "1       2018.0\n",
      "2       2018.0\n",
      "3       2018.0\n",
      "4       2018.0\n",
      "         ...  \n",
      "6297       0.0\n",
      "6298       0.0\n",
      "6299       0.0\n",
      "6300       0.0\n",
      "6301       0.0\n",
      "Name: Year, Length: 6302, dtype: float64\n"
     ]
    }
   ],
   "source": [
    "print(df['Year'])"
   ]
  },
  {
   "cell_type": "code",
   "execution_count": 28,
   "id": "85f17432",
   "metadata": {},
   "outputs": [
    {
     "name": "stdout",
     "output_type": "stream",
     "text": [
      "125\n"
     ]
    }
   ],
   "source": [
    "print(df['Year'].value_counts()[0.0])"
   ]
  },
  {
   "cell_type": "code",
   "execution_count": null,
   "id": "4a8bcd4c",
   "metadata": {},
   "outputs": [],
   "source": [
    "# He comprobado que en la columna year hay algunos valores iguales a 0.0. \n",
    "# Eso no me da ninguna información, por lo que voy a borrar las filas que tienen ese year 0.0."
   ]
  },
  {
   "cell_type": "code",
   "execution_count": 33,
   "id": "e9d6303b",
   "metadata": {},
   "outputs": [],
   "source": [
    "rows_to_drop = df[df['Year'] == 0.0].index\n",
    "df = df.drop(rows_to_drop)"
   ]
  },
  {
   "cell_type": "code",
   "execution_count": 34,
   "id": "325a7752",
   "metadata": {},
   "outputs": [
    {
     "data": {
      "text/plain": [
       "(6176, 24)"
      ]
     },
     "execution_count": 34,
     "metadata": {},
     "output_type": "execute_result"
    }
   ],
   "source": [
    "df.shape"
   ]
  },
  {
   "cell_type": "code",
   "execution_count": 35,
   "id": "3cfd46f6",
   "metadata": {},
   "outputs": [],
   "source": [
    "# Ahora tengo un df de (6176, 24)"
   ]
  },
  {
   "cell_type": "markdown",
   "id": "ff989c7e",
   "metadata": {},
   "source": [
    "**COLUMNA 4 - Type**"
   ]
  },
  {
   "cell_type": "code",
   "execution_count": null,
   "id": "5230fc37",
   "metadata": {},
   "outputs": [],
   "source": [
    "# Esta columna indica el tipo de ataque: provocado, no provocado, y más tipos que no conozco.\n",
    "# lo primero que voy a hacer es sacar los valores únicos"
   ]
  },
  {
   "cell_type": "code",
   "execution_count": 37,
   "id": "0f663555",
   "metadata": {},
   "outputs": [
    {
     "name": "stdout",
     "output_type": "stream",
     "text": [
      "Unprovoked      4487\n",
      "Provoked         567\n",
      "Invalid          544\n",
      "Sea Disaster     233\n",
      "Boating          203\n",
      "Boat             135\n",
      "Questionable       2\n",
      "Boatomg            1\n",
      "Name: Type, dtype: int64\n"
     ]
    }
   ],
   "source": [
    "value_counts = df['Type'].value_counts()\n",
    "\n",
    "print(value_counts)"
   ]
  },
  {
   "cell_type": "code",
   "execution_count": 38,
   "id": "1e130f78",
   "metadata": {},
   "outputs": [],
   "source": [
    "# Voy a agruparlos únicamente en provocados y no provocados\n",
    "# Voy a pasar las distintas categorías a Unprovoked, y los inválidos los voy a dejar tal y como están.\n",
    "# Los paso a Unprovoked porque se entiende que en las categorías como Sea Disaster o Boating no se le estaba provocando."
   ]
  },
  {
   "cell_type": "code",
   "execution_count": null,
   "id": "d2b479d8",
   "metadata": {},
   "outputs": [],
   "source": [
    "# Sustituyo los valores de sea disaster, boating, boat"
   ]
  },
  {
   "cell_type": "code",
   "execution_count": null,
   "id": "546cc6fc",
   "metadata": {},
   "outputs": [],
   "source": []
  },
  {
   "cell_type": "code",
   "execution_count": null,
   "id": "dca94a28",
   "metadata": {},
   "outputs": [],
   "source": []
  },
  {
   "cell_type": "code",
   "execution_count": null,
   "id": "34abbdd8",
   "metadata": {},
   "outputs": [],
   "source": []
  },
  {
   "cell_type": "code",
   "execution_count": null,
   "id": "e9bdf64c",
   "metadata": {},
   "outputs": [],
   "source": []
  },
  {
   "cell_type": "code",
   "execution_count": null,
   "id": "057806e1",
   "metadata": {},
   "outputs": [],
   "source": []
  },
  {
   "cell_type": "code",
   "execution_count": null,
   "id": "847d1dd7",
   "metadata": {},
   "outputs": [],
   "source": []
  },
  {
   "cell_type": "code",
   "execution_count": null,
   "id": "3c4f2e58",
   "metadata": {},
   "outputs": [],
   "source": []
  },
  {
   "cell_type": "code",
   "execution_count": null,
   "id": "c895e21e",
   "metadata": {},
   "outputs": [],
   "source": []
  },
  {
   "cell_type": "code",
   "execution_count": null,
   "id": "00756e85",
   "metadata": {},
   "outputs": [],
   "source": []
  },
  {
   "cell_type": "code",
   "execution_count": null,
   "id": "2d3452bb",
   "metadata": {},
   "outputs": [],
   "source": []
  },
  {
   "cell_type": "code",
   "execution_count": null,
   "id": "7c1f8981",
   "metadata": {},
   "outputs": [],
   "source": []
  }
 ],
 "metadata": {
  "kernelspec": {
   "display_name": "Python 3 (ipykernel)",
   "language": "python",
   "name": "python3"
  },
  "language_info": {
   "codemirror_mode": {
    "name": "ipython",
    "version": 3
   },
   "file_extension": ".py",
   "mimetype": "text/x-python",
   "name": "python",
   "nbconvert_exporter": "python",
   "pygments_lexer": "ipython3",
   "version": "3.9.13"
  }
 },
 "nbformat": 4,
 "nbformat_minor": 5
}
